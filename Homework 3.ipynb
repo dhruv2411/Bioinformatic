{
 "cells": [
  {
   "cell_type": "code",
   "execution_count": 1,
   "id": "9baba023",
   "metadata": {},
   "outputs": [],
   "source": [
    "import pandas as pd\n",
    "import re\n",
    "from Bio import SeqIO"
   ]
  },
  {
   "cell_type": "code",
   "execution_count": 96,
   "id": "e504373b",
   "metadata": {},
   "outputs": [
    {
     "data": {
      "text/plain": [
       "[SeqRecord(seq=Seq('MFVFLVLLPLVSSQCVNLTTRTQLPPAYTNSFTRGVYYPDKVFRSSVLHSTQDL...HYT'), id='gi|1835922048|sp|P0DTC2.1|SPIKE_SARS2', name='gi|1835922048|sp|P0DTC2.1|SPIKE_SARS2', description=\"gi|1835922048|sp|P0DTC2.1|SPIKE_SARS2 RecName: Full=Spike glycoprotein; Short=S glycoprotein; AltName: Full=E2; AltName: Full=Peplomer protein; Contains: RecName: Full=Spike protein S1; Contains: RecName: Full=Spike protein S2; Contains: RecName: Full=Spike protein S2'; Flags: Precursor\", dbxrefs=[]),\n",
       " SeqRecord(seq=Seq('MFIFLLFLTLTSGSDLDRCTTFDDVQAPNYTQHTSSMRGVYYPDEIFRSDTLYL...HYT'), id='gi|30173397|sp|P59594.1|SPIKE_SARS', name='gi|30173397|sp|P59594.1|SPIKE_SARS', description=\"gi|30173397|sp|P59594.1|SPIKE_SARS RecName: Full=Spike glycoprotein; Short=S glycoprotein; AltName: Full=E2; AltName: Full=Peplomer protein; Contains: RecName: Full=Spike protein S1; Contains: RecName: Full=Spike protein S2; Contains: RecName: Full=Spike protein S2'; Flags: Precursor\", dbxrefs=[]),\n",
       " SeqRecord(seq=Seq('MLFVFILFLPSCLGYIGDFRCIQLVNSNGANVSAPSISTETVEVSQGLGTYYVL...HED'), id='gi|1352862|sp|P11224.2|SPIKE_CVMA5', name='gi|1352862|sp|P11224.2|SPIKE_CVMA5', description=\"gi|1352862|sp|P11224.2|SPIKE_CVMA5 RecName: Full=Spike glycoprotein; Short=S glycoprotein; AltName: Full=E2; AltName: Full=Peplomer protein; Contains: RecName: Full=Spike protein S1; Contains: RecName: Full=Spike protein S2; Contains: RecName: Full=Spike protein S2'; Flags: Precursor\", dbxrefs=[]),\n",
       " SeqRecord(seq=Seq('MFLILLISLPMAFAVIGDLKCTTVSINDVDTGAPSISTDIVDVTNGLGTYYVLD...HDD'), id='gi|138172|sp|P15777.1|SPIKE_CVBM', name='gi|138172|sp|P15777.1|SPIKE_CVBM', description=\"gi|138172|sp|P15777.1|SPIKE_CVBM RecName: Full=Spike glycoprotein; Short=S glycoprotein; AltName: Full=E2; AltName: Full=Peplomer protein; Contains: RecName: Full=Spike protein S1; Contains: RecName: Full=Spike protein S2; Contains: RecName: Full=Spike protein S2'; Flags: Precursor\", dbxrefs=[]),\n",
       " SeqRecord(seq=Seq('MLVTPLLLVTLLCALCSAVLYDSSSYVYYYQSAFRPPSGWHLQGGAYAVVNISS...KSV'), id='gi|138186|sp|P11223.1|SPIKE_IBVB', name='gi|138186|sp|P11223.1|SPIKE_IBVB', description=\"gi|138186|sp|P11223.1|SPIKE_IBVB RecName: Full=Spike glycoprotein; Short=S glycoprotein; AltName: Full=E2; AltName: Full=Peplomer protein; Contains: RecName: Full=Spike protein S1; Contains: RecName: Full=Spike protein S2; Contains: RecName: Full=Spike protein S2'; Flags: Precursor\", dbxrefs=[]),\n",
       " SeqRecord(seq=Seq('MFLIIFILPTTLAVIGDFNCTNSFINDYNKTIPRISEDVVDVSLGLGTYYVLNR...HDD'), id='gi|123867264|sp|Q0ZME7.1|SPIKE_CVHN5', name='gi|123867264|sp|Q0ZME7.1|SPIKE_CVHN5', description=\"gi|123867264|sp|Q0ZME7.1|SPIKE_CVHN5 RecName: Full=Spike glycoprotein; Short=S glycoprotein; AltName: Full=E2; AltName: Full=Peplomer protein; Contains: RecName: Full=Spike protein S1; Contains: RecName: Full=Spike protein S2; Contains: RecName: Full=Spike protein S2'; Flags: Precursor\", dbxrefs=[]),\n",
       " SeqRecord(seq=Seq('MFLIIFILPTTLAVIGDFNCTNSFINDYNKTIPRISEDVVDVSLGLGTYYVLNR...HDD'), id='gi|123862264|sp|Q14EB0.1|SPIKE_CVHN2', name='gi|123862264|sp|Q14EB0.1|SPIKE_CVHN2', description=\"gi|123862264|sp|Q14EB0.1|SPIKE_CVHN2 RecName: Full=Spike glycoprotein; Short=S glycoprotein; AltName: Full=E2; AltName: Full=Peplomer protein; Contains: RecName: Full=Spike protein S1; Contains: RecName: Full=Spike protein S2; Contains: RecName: Full=Spike protein S2'; Flags: Precursor\", dbxrefs=[]),\n",
       " SeqRecord(seq=Seq('MFFILLITLPSVFAVIGDLKCNTSSINDVDTGVPSISSEVVDVTNGLGTFYVLD...HDD'), id='gi|82060151|sp|Q8JSP8.1|SPIKE_CVPIA', name='gi|82060151|sp|Q8JSP8.1|SPIKE_CVPIA', description=\"gi|82060151|sp|Q8JSP8.1|SPIKE_CVPIA RecName: Full=Spike glycoprotein; Short=S glycoprotein; AltName: Full=E2; AltName: Full=Peplomer protein; Contains: RecName: Full=Spike protein S1; Contains: RecName: Full=Spike protein S2; Contains: RecName: Full=Spike protein S2'; Flags: Precursor\", dbxrefs=[]),\n",
       " SeqRecord(seq=Seq('MFFILLISLPSAFAVIGDLKCTTSLINDVDTGVPSISSEVVDVTNGLGTFYVLD...HDD'), id='gi|82011698|sp|Q8BB25.1|SPIKE_CVP67', name='gi|82011698|sp|Q8BB25.1|SPIKE_CVP67', description=\"gi|82011698|sp|Q8BB25.1|SPIKE_CVP67 RecName: Full=Spike glycoprotein; Short=S glycoprotein; AltName: Full=E2; AltName: Full=Peplomer protein; Contains: RecName: Full=Spike protein S1; Contains: RecName: Full=Spike protein S2; Contains: RecName: Full=Spike protein S2'; Flags: Precursor\", dbxrefs=[]),\n",
       " SeqRecord(seq=Seq('MLLIIFILPTTLAVIGDFNCTNFAINDLNTTVPRISEYVVDVSYGLGTYYILDR...HDD'), id='gi|81926310|sp|Q5MQD0.1|SPIKE_CVHN1', name='gi|81926310|sp|Q5MQD0.1|SPIKE_CVHN1', description=\"gi|81926310|sp|Q5MQD0.1|SPIKE_CVHN1 RecName: Full=Spike glycoprotein; Short=S glycoprotein; AltName: Full=E2; AltName: Full=Peplomer protein; Contains: RecName: Full=Spike protein S1; Contains: RecName: Full=Spike protein S2; Contains: RecName: Full=Spike protein S2'; Flags: Precursor\", dbxrefs=[]),\n",
       " SeqRecord(seq=Seq('MFLILLISLPTAFAVIGDLKCTSDNINDKDTGPPPISTDTVDVTNGLGTYYVLD...HDD'), id='gi|549302|sp|P36334.1|SPIKE_CVHOC', name='gi|549302|sp|P36334.1|SPIKE_CVHOC', description=\"gi|549302|sp|P36334.1|SPIKE_CVHOC RecName: Full=Spike glycoprotein; Short=S glycoprotein; AltName: Full=E2; AltName: Full=Peplomer protein; Contains: RecName: Full=Spike protein S1; Contains: RecName: Full=Spike protein S2; Contains: RecName: Full=Spike protein S2'; Flags: Precursor\", dbxrefs=[]),\n",
       " SeqRecord(seq=Seq('MLFVFILFLPSCLGYIGDFRCIQTVNYNGNNASAPSISTEAVDVSKGLGTYYVL...HED'), id='gi|465382|sp|Q02385.1|SPIKE_CVMJC', name='gi|465382|sp|Q02385.1|SPIKE_CVMJC', description=\"gi|465382|sp|Q02385.1|SPIKE_CVMJC RecName: Full=Spike glycoprotein; Short=S glycoprotein; AltName: Full=E2; AltName: Full=Peplomer protein; Contains: RecName: Full=Spike protein S1; Contains: RecName: Full=Spike protein S2; Contains: RecName: Full=Spike protein S2'; Flags: Precursor\", dbxrefs=[]),\n",
       " SeqRecord(seq=Seq('MLFVFILLLPSCLGYIGDFRCIQTVNYNGNNASAPSISTEAVDVSKGRGTYYVL...HED'), id='gi|138178|sp|P11225.1|SPIKE_CVMJH', name='gi|138178|sp|P11225.1|SPIKE_CVMJH', description=\"gi|138178|sp|P11225.1|SPIKE_CVMJH RecName: Full=Spike glycoprotein; Short=S glycoprotein; AltName: Full=E2; AltName: Full=Peplomer protein; Contains: RecName: Full=Spike protein S1; Contains: RecName: Full=Spike protein S2; Contains: RecName: Full=Spike protein S2'; Flags: Precursor\", dbxrefs=[]),\n",
       " SeqRecord(seq=Seq('MLFVFILLLPSCLGYIGDFRCIQTVNYNGNNASAPSISTEAVDVSKGLGTYYVL...HED'), id='gi|138176|sp|P22432.1|SPIKE_CVM4', name='gi|138176|sp|P22432.1|SPIKE_CVM4', description=\"gi|138176|sp|P22432.1|SPIKE_CVM4 RecName: Full=Spike glycoprotein; Short=S glycoprotein; AltName: Full=E2; AltName: Full=Peplomer protein; Contains: RecName: Full=Spike protein S1; Contains: RecName: Full=Spike protein S2; Contains: RecName: Full=Spike protein S2'; Flags: Precursor\", dbxrefs=[]),\n",
       " SeqRecord(seq=Seq('MFLILLISLPMALAVIGDLKCTTVSINDVDTGVPSISTDTVDVTNGLGTYYVLD...HDD'), id='gi|138169|sp|P25190.1|SPIKE_CVBF', name='gi|138169|sp|P25190.1|SPIKE_CVBF', description=\"gi|138169|sp|P25190.1|SPIKE_CVBF RecName: Full=Spike glycoprotein; Short=S glycoprotein; AltName: Full=E2; AltName: Full=Peplomer protein; Contains: RecName: Full=Spike protein S1; Contains: RecName: Full=Spike protein S2; Contains: RecName: Full=Spike protein S2'; Flags: Precursor\", dbxrefs=[]),\n",
       " SeqRecord(seq=Seq('MKVLIFALLFSLAKAQEGCGIISRKPQPKMEKVSSSRRGVYYNDDIFRSDVLHL...HYT'), id='gi|123861109|sp|Q0Q475.1|SPIKE_BC279', name='gi|123861109|sp|Q0Q475.1|SPIKE_BC279', description=\"gi|123861109|sp|Q0Q475.1|SPIKE_BC279 RecName: Full=Spike glycoprotein; Short=S glycoprotein; AltName: Full=E2; AltName: Full=Peplomer protein; Contains: RecName: Full=Spike protein S1; Contains: RecName: Full=Spike protein S2; Contains: RecName: Full=Spike protein S2'; Flags: Precursor\", dbxrefs=[]),\n",
       " SeqRecord(seq=Seq('MKILIFAFLANLAKAQEGCGIISRKPQPKMAQVSSSRRGVYYNDDIFRSDVLHL...HYT'), id='gi|123847331|sp|Q3LZX1.1|SPIKE_BCHK3', name='gi|123847331|sp|Q3LZX1.1|SPIKE_BCHK3', description=\"gi|123847331|sp|Q3LZX1.1|SPIKE_BCHK3 RecName: Full=Spike glycoprotein; Short=S glycoprotein; AltName: Full=E2; AltName: Full=Peplomer protein; Contains: RecName: Full=Spike protein S1; Contains: RecName: Full=Spike protein S2; Contains: RecName: Full=Spike protein S2'; Flags: Precursor\", dbxrefs=[]),\n",
       " SeqRecord(seq=Seq('MFLILLISLPTAFAVIGDLKCTTVSINDVDTGVPSISTDTVDVTNGLGTYYVLD...HDD'), id='gi|82013003|sp|Q9QAR5.1|SPIKE_CVBLS', name='gi|82013003|sp|Q9QAR5.1|SPIKE_CVBLS', description=\"gi|82013003|sp|Q9QAR5.1|SPIKE_CVBLS RecName: Full=Spike glycoprotein; Short=S glycoprotein; AltName: Full=E2; AltName: Full=Peplomer protein; Contains: RecName: Full=Spike protein S1; Contains: RecName: Full=Spike protein S2; Contains: RecName: Full=Spike protein S2'; Flags: Precursor\", dbxrefs=[]),\n",
       " SeqRecord(seq=Seq('MFLILLISLPTAFAVIGDLKCTTVSINDVDTGVPSISTDTVDVTNGLGTYYVLD...HDD'), id='gi|82012998|sp|Q9QAQ8.1|SPIKE_CVBOK', name='gi|82012998|sp|Q9QAQ8.1|SPIKE_CVBOK', description=\"gi|82012998|sp|Q9QAQ8.1|SPIKE_CVBOK RecName: Full=Spike glycoprotein; Short=S glycoprotein; AltName: Full=E2; AltName: Full=Peplomer protein; Contains: RecName: Full=Spike protein S1; Contains: RecName: Full=Spike protein S2; Contains: RecName: Full=Spike protein S2'; Flags: Precursor\", dbxrefs=[]),\n",
       " SeqRecord(seq=Seq('MLFVFLTLLPSCLGYIGDFRCINLVNTRISNARAPSVSTEVVDVSKGLGTYYVL...HED'), id='gi|81971726|sp|Q9IKD1.1|SPIKE_CVRSD', name='gi|81971726|sp|Q9IKD1.1|SPIKE_CVRSD', description=\"gi|81971726|sp|Q9IKD1.1|SPIKE_CVRSD RecName: Full=Spike glycoprotein; Short=S glycoprotein; AltName: Full=E2; AltName: Full=Peplomer protein; Contains: RecName: Full=Spike protein S1; Contains: RecName: Full=Spike protein S2; Contains: RecName: Full=Spike protein S2'; Flags: Precursor\", dbxrefs=[]),\n",
       " SeqRecord(seq=Seq('MFLILLISLPTAFAVIGDLKCTTVSINDVDTGVPSISTDTVDVTNGLGTYYVLD...HED'), id='gi|81960875|sp|Q91A26.1|SPIKE_CVBEN', name='gi|81960875|sp|Q91A26.1|SPIKE_CVBEN', description=\"gi|81960875|sp|Q91A26.1|SPIKE_CVBEN RecName: Full=Spike glycoprotein; Short=S glycoprotein; AltName: Full=E2; AltName: Full=Peplomer protein; Contains: RecName: Full=Spike protein S1; Contains: RecName: Full=Spike protein S2; Contains: RecName: Full=Spike protein S2'; Flags: Precursor\", dbxrefs=[]),\n",
       " SeqRecord(seq=Seq('MFLILLISLPTAFAVIGDLKCTTVSINDVDTGVPSISTDTVDVTKGLGTYYVLD...HED'), id='gi|81957133|sp|Q8V436.1|SPIKE_CVBLU', name='gi|81957133|sp|Q8V436.1|SPIKE_CVBLU', description=\"gi|81957133|sp|Q8V436.1|SPIKE_CVBLU RecName: Full=Spike glycoprotein; Short=S glycoprotein; AltName: Full=E2; AltName: Full=Peplomer protein; Contains: RecName: Full=Spike protein S1; Contains: RecName: Full=Spike protein S2; Contains: RecName: Full=Spike protein S2'; Flags: Precursor\", dbxrefs=[]),\n",
       " SeqRecord(seq=Seq('MFLILLISLPMAFAVIGDLKCTTVSINDVDTGAPSISTDIVDVTNGLGTYYVLD...HDD'), id='gi|1352861|sp|P25193.2|SPIKE_CVBQ', name='gi|1352861|sp|P25193.2|SPIKE_CVBQ', description=\"gi|1352861|sp|P25193.2|SPIKE_CVBQ RecName: Full=Spike glycoprotein; Short=S glycoprotein; AltName: Full=E2; AltName: Full=Peplomer protein; Contains: RecName: Full=Spike protein S1; Contains: RecName: Full=Spike protein S2; Contains: RecName: Full=Spike protein S2'; Flags: Precursor\", dbxrefs=[]),\n",
       " SeqRecord(seq=Seq('MFLILLISLPMAFAVIGDLKCTTVSINDVDTGAPSISTDTVDVTNGLGTYYVLD...HDD'), id='gi|138174|sp|P25194.1|SPIKE_CVBV', name='gi|138174|sp|P25194.1|SPIKE_CVBV', description=\"gi|138174|sp|P25194.1|SPIKE_CVBV RecName: Full=Spike glycoprotein; Short=S glycoprotein; AltName: Full=E2; AltName: Full=Peplomer protein; Contains: RecName: Full=Spike protein S1; Contains: RecName: Full=Spike protein S2; Contains: RecName: Full=Spike protein S2'; Flags: Precursor\", dbxrefs=[]),\n",
       " SeqRecord(seq=Seq('MFLILLISLPMALAVIGDLKCTTVSINDVDTGVPSVSTDTVDVTNGLGTYYVLD...HDD'), id='gi|138171|sp|P25192.1|SPIKE_CVBLY', name='gi|138171|sp|P25192.1|SPIKE_CVBLY', description=\"gi|138171|sp|P25192.1|SPIKE_CVBLY RecName: Full=Spike glycoprotein; Short=S glycoprotein; AltName: Full=E2; AltName: Full=Peplomer protein; Contains: RecName: Full=Spike protein S1; Contains: RecName: Full=Spike protein S2; Contains: RecName: Full=Spike protein S2'; Flags: Precursor\", dbxrefs=[]),\n",
       " SeqRecord(seq=Seq('MFLILLISLPMAFAVIGDLKCTTVSINDVDTGAPSISTDIVDVTNGLGTYYVLD...HDD'), id='gi|138170|sp|P25191.1|SPIKE_CVBL9', name='gi|138170|sp|P25191.1|SPIKE_CVBL9', description=\"gi|138170|sp|P25191.1|SPIKE_CVBL9 RecName: Full=Spike glycoprotein; Short=S glycoprotein; AltName: Full=E2; AltName: Full=Peplomer protein; Contains: RecName: Full=Spike protein S1; Contains: RecName: Full=Spike protein S2; Contains: RecName: Full=Spike protein S2'; Flags: Precursor\", dbxrefs=[]),\n",
       " SeqRecord(seq=Seq('MKILILAFLASLAKAQEGCGIISRKPQPKMAQVSSSRRGVYYNDDIFRSNVLHL...HYT'), id='gi|82582259|sp|Q3I5J5.1|SPIKE_BCRP3', name='gi|82582259|sp|Q3I5J5.1|SPIKE_BCRP3', description=\"gi|82582259|sp|Q3I5J5.1|SPIKE_BCRP3 RecName: Full=Spike glycoprotein; Short=S glycoprotein; AltName: Full=E2; AltName: Full=Peplomer protein; Contains: RecName: Full=Spike protein S1; Contains: RecName: Full=Spike protein S2; Contains: RecName: Full=Spike protein S2'; Flags: Precursor\", dbxrefs=[]),\n",
       " SeqRecord(seq=Seq('MIRSVLVLMCSLTFIGNLTRGQSVDMGHNGTGSCLDSQVQPDYFESVHTTWPMP...HVH'), id='gi|148841194|sp|A3EXD0.1|SPIKE_BCHK5', name='gi|148841194|sp|A3EXD0.1|SPIKE_BCHK5', description=\"gi|148841194|sp|A3EXD0.1|SPIKE_BCHK5 RecName: Full=Spike glycoprotein; Short=S glycoprotein; AltName: Full=E2; AltName: Full=Peplomer protein; Contains: RecName: Full=Spike protein S1; Contains: RecName: Full=Spike protein S2; Contains: RecName: Full=Spike protein S2'; Flags: Precursor\", dbxrefs=[]),\n",
       " SeqRecord(seq=Seq('MTLLMCLLMSLLIFVRGCDSQFVDMSPASNTSECLESQVDAAAFSKLMWPYPID...HVH'), id='gi|148841193|sp|A3EX94.1|SPIKE_BCHK4', name='gi|148841193|sp|A3EX94.1|SPIKE_BCHK4', description=\"gi|148841193|sp|A3EX94.1|SPIKE_BCHK4 RecName: Full=Spike glycoprotein; Short=S glycoprotein; AltName: Full=E2; AltName: Full=Peplomer protein; Contains: RecName: Full=Spike protein S1; Contains: RecName: Full=Spike protein S2; Contains: RecName: Full=Spike protein S2'; Flags: Precursor\", dbxrefs=[]),\n",
       " SeqRecord(seq=Seq('MTRLMCLLMSLSIFVRGFDSQFVDMSPASNASECLESQVDAAAFSKLVWPYPID...HVH'), id='gi|123866437|sp|Q0Q4F2.1|SPIKE_BC133', name='gi|123866437|sp|Q0Q4F2.1|SPIKE_BC133', description=\"gi|123866437|sp|Q0Q4F2.1|SPIKE_BC133 RecName: Full=Spike glycoprotein; Short=S glycoprotein; AltName: Full=E2; AltName: Full=Peplomer protein; Contains: RecName: Full=Spike protein S1; Contains: RecName: Full=Spike protein S2; Contains: RecName: Full=Spike protein S2'; Flags: Precursor\", dbxrefs=[]),\n",
       " SeqRecord(seq=Seq('MLLILVLGVSLAAASRPECFNPRFTLTPLNHTLNYTSIKAKVSNVLLPDPYIAY...RTV'), id='gi|148841195|sp|A3EXG6.1|SPIKE_BCHK9', name='gi|148841195|sp|A3EXG6.1|SPIKE_BCHK9', description=\"gi|148841195|sp|A3EXG6.1|SPIKE_BCHK9 RecName: Full=Spike glycoprotein; Short=S glycoprotein; AltName: Full=E2; AltName: Full=Peplomer protein; Contains: RecName: Full=Spike protein S1; Contains: RecName: Full=Spike protein S2; Contains: RecName: Full=Spike protein S2'; Flags: Precursor\", dbxrefs=[]),\n",
       " SeqRecord(seq=Seq('MIHSVFLLMFLLTPTESYVDVGPDSVKSACIEVDIQQTFFDKTWPRPIDVSKAD...HVH'), id='gi|510785803|sp|K9N5Q8.1|SPIKE_MERS1', name='gi|510785803|sp|K9N5Q8.1|SPIKE_MERS1', description=\"gi|510785803|sp|K9N5Q8.1|SPIKE_MERS1 RecName: Full=Spike glycoprotein; Short=S glycoprotein; AltName: Full=E2; AltName: Full=Peplomer protein; Contains: RecName: Full=Spike protein S1; Contains: RecName: Full=Spike protein S2; Contains: RecName: Full=Spike protein S2'; Flags: Precursor\", dbxrefs=[]),\n",
       " SeqRecord(seq=Seq('MLERSLLLATLLSALCSANLFGNNSYVYYYQSAFRPPDGWHLHGGAYEVVNVFT...VVT'), id='gi|138187|sp|P12722.1|SPIKE_IBVD2', name='gi|138187|sp|P12722.1|SPIKE_IBVD2', description=\"gi|138187|sp|P12722.1|SPIKE_IBVD2 RecName: Full=Spike glycoprotein; Short=S glycoprotein; AltName: Full=E2; AltName: Full=Peplomer protein; Contains: RecName: Full=Spike protein S1; Contains: RecName: Full=Spike protein S2; Contains: RecName: Full=Spike protein S2'; Flags: Precursor\", dbxrefs=[]),\n",
       " SeqRecord(seq=Seq('MLERSLLLATLLSALCSANLFGNNSYVYYYQSAFRPSDGWHLHGGAYEVVNVST...KSV'), id='gi|138185|sp|P05135.1|SPIKE_IBV6', name='gi|138185|sp|P05135.1|SPIKE_IBV6', description=\"gi|138185|sp|P05135.1|SPIKE_IBV6 RecName: Full=Spike glycoprotein; Short=S glycoprotein; AltName: Full=E2; AltName: Full=Peplomer protein; Contains: RecName: Full=Spike protein S1; Contains: RecName: Full=Spike protein S2; Contains: RecName: Full=Spike protein S2'; Flags: Precursor\", dbxrefs=[]),\n",
       " SeqRecord(seq=Seq('MKLFLILLVLPLASCFFTCNSNANLSMLQLGVPDNSSTIVTGLLPTHWFCANQS...HVQ'), id='gi|71153773|sp|Q6Q1S2.1|SPIKE_CVHNL', name='gi|71153773|sp|Q6Q1S2.1|SPIKE_CVHNL', description='gi|71153773|sp|Q6Q1S2.1|SPIKE_CVHNL RecName: Full=Spike glycoprotein; Short=S glycoprotein; AltName: Full=E2; AltName: Full=Peplomer protein; Flags: Precursor', dbxrefs=[]),\n",
       " SeqRecord(seq=Seq('MLVTPLLLVTLLCVLCSAALYDSSSYVYYYQSAFRPPNGWHLHGGAYAVVNISS...KSV'), id='gi|138190|sp|P12651.1|SPIKE_IBVM', name='gi|138190|sp|P12651.1|SPIKE_IBVM', description=\"gi|138190|sp|P12651.1|SPIKE_IBVM RecName: Full=Spike glycoprotein; Short=S glycoprotein; AltName: Full=E2; AltName: Full=Peplomer protein; Contains: RecName: Full=Spike protein S1; Contains: RecName: Full=Spike protein S2; Contains: RecName: Full=Spike protein S2'; Flags: Precursor\", dbxrefs=[]),\n",
       " SeqRecord(seq=Seq('MFVLLVAYALLHIAGCQTTNGLNTSYSVCNGCVGYSENVFAVESGGYIPSDFAF...HIQ'), id='gi|138175|sp|P15423.1|SPIKE_CVH22', name='gi|138175|sp|P15423.1|SPIKE_CVH22', description='gi|138175|sp|P15423.1|SPIKE_CVH22 RecName: Full=Spike glycoprotein; Short=S glycoprotein; AltName: Full=E2; AltName: Full=Peplomer protein; Flags: Precursor', dbxrefs=[]),\n",
       " SeqRecord(seq=Seq('MLVTPLLLVTLLCALCSAALYDSSSYVYYYQSAFRPPDGWHLHGGAYAVVNISS...KSV'), id='gi|138189|sp|P12650.1|SPIKE_IBVK', name='gi|138189|sp|P12650.1|SPIKE_IBVK', description=\"gi|138189|sp|P12650.1|SPIKE_IBVK RecName: Full=Spike glycoprotein; Short=S glycoprotein; AltName: Full=E2; AltName: Full=Peplomer protein; Contains: RecName: Full=Spike protein S1; Contains: RecName: Full=Spike protein S2; Contains: RecName: Full=Spike protein S2'; Flags: Precursor\", dbxrefs=[]),\n",
       " SeqRecord(seq=Seq('MRSLIYFWLLLPVLPTLSLPQDVTRCQSTTNFRRFFSKFNVQAPAVVVLGGYLP...HVQ'), id='gi|81961050|sp|Q91AV1.1|SPIKE_PEDV7', name='gi|81961050|sp|Q91AV1.1|SPIKE_PEDV7', description='gi|81961050|sp|Q91AV1.1|SPIKE_PEDV7 RecName: Full=Spike glycoprotein; Short=S glycoprotein; AltName: Full=E2; AltName: Full=Peplomer protein; Flags: Precursor', dbxrefs=[]),\n",
       " SeqRecord(seq=Seq('MIVLILCLLLFSYNSVICTSNNDCVQGNVTQLPGNENIIKDFLFHTFKEEPSVV...HVH'), id='gi|81175016|sp|Q65984.1|SPIKE_CVCAK', name='gi|81175016|sp|Q65984.1|SPIKE_CVCAK', description='gi|81175016|sp|Q65984.1|SPIKE_CVCAK RecName: Full=Spike glycoprotein; Short=S glycoprotein; AltName: Full=E2; AltName: Full=Peplomer protein; Flags: Precursor', dbxrefs=[]),\n",
       " SeqRecord(seq=Seq('MKKLFVVLVVMPLIYGDNFPCSKLTNRTIGNQWNLIETFLLNYSSRLPPNSDVV...HVH'), id='gi|31340517|sp|P07946.2|SPIKE_CVPPU', name='gi|31340517|sp|P07946.2|SPIKE_CVPPU', description='gi|31340517|sp|P07946.2|SPIKE_CVPPU RecName: Full=Spike glycoprotein; Short=S glycoprotein; AltName: Full=E2; AltName: Full=Peplomer protein; Flags: Precursor', dbxrefs=[]),\n",
       " SeqRecord(seq=Seq('MIVLVTCLLLLCSYHTVLSTTNNECIQVNVTQLAGNENLIRDFLFSNFKEEGSV...HVH'), id='gi|138184|sp|P10033.1|SPIKE_FIPV', name='gi|138184|sp|P10033.1|SPIKE_FIPV', description='gi|138184|sp|P10033.1|SPIKE_FIPV RecName: Full=Spike glycoprotein; Short=S glycoprotein; AltName: Full=E2; AltName: Full=Peplomer protein; Flags: Precursor', dbxrefs=[]),\n",
       " SeqRecord(seq=Seq('MKYTLLFCVVFATVSFGFADNERCNKTVNLTRLFSKFDIQPPSQVVLAGLLPNQ...HVQ'), id='gi|123866429|sp|Q0Q466.1|SPIKE_BC512', name='gi|123866429|sp|Q0Q466.1|SPIKE_BC512', description='gi|123866429|sp|Q0Q466.1|SPIKE_BC512 RecName: Full=Spike glycoprotein; Short=S glycoprotein; AltName: Full=E2; AltName: Full=Peplomer protein; Flags: Precursor', dbxrefs=[]),\n",
       " SeqRecord(seq=Seq('MIVLTLCLFLVLYNSVICTSNNECVQVNVTQLPGNENIIRDFLFQNFKEEGTVV...HVH'), id='gi|75558720|sp|Q7T6T3.1|SPIKE_CVCBG', name='gi|75558720|sp|Q7T6T3.1|SPIKE_CVCBG', description='gi|75558720|sp|Q7T6T3.1|SPIKE_CVCBG RecName: Full=Spike glycoprotein; Short=S glycoprotein; AltName: Full=E2; AltName: Full=Peplomer protein; Flags: Precursor', dbxrefs=[]),\n",
       " SeqRecord(seq=Seq('MKKLFVVLVVMPLIYGDNFPCSKLTNRTIGNHWNLIETFLLNYSSRLSPNSDVV...HVH'), id='gi|1352863|sp|P33470.2|SPIKE_CVPMI', name='gi|1352863|sp|P33470.2|SPIKE_CVPMI', description='gi|1352863|sp|P33470.2|SPIKE_CVPMI RecName: Full=Spike glycoprotein; Short=S glycoprotein; AltName: Full=E2; AltName: Full=Peplomer protein; Flags: Precursor', dbxrefs=[]),\n",
       " SeqRecord(seq=Seq('MIVLTLCLFLFLYSSVSCTSNNDCVQVNVTQLPGNENIIKDFLFQNFKEEGSLV...HVH'), id='gi|549301|sp|P36300.1|SPIKE_CVCAI', name='gi|549301|sp|P36300.1|SPIKE_CVCAI', description='gi|549301|sp|P36300.1|SPIKE_CVCAI RecName: Full=Spike glycoprotein; Short=S glycoprotein; AltName: Full=E2; AltName: Full=Peplomer protein; Flags: Precursor', dbxrefs=[]),\n",
       " SeqRecord(seq=Seq('MKKLFVVLVVMPLIYGDNFPCSKLTNRTIGNQWNLIETFLLNYSSRLPPNSDVV...HVH'), id='gi|465385|sp|Q01977.1|SPIKE_CVPRT', name='gi|465385|sp|Q01977.1|SPIKE_CVPRT', description='gi|465385|sp|Q01977.1|SPIKE_CVPRT RecName: Full=Spike glycoprotein; Short=S glycoprotein; AltName: Full=E2; AltName: Full=Peplomer protein; Flags: Precursor', dbxrefs=[]),\n",
       " SeqRecord(seq=Seq('MKKLFVVLVVMPLIYGDNFPCSKLTNRTIGNHWNLIETFLLNYSSRLSPNSDVV...HIH'), id='gi|267339|sp|P18450.2|SPIKE_CVPFS', name='gi|267339|sp|P18450.2|SPIKE_CVPFS', description='gi|267339|sp|P18450.2|SPIKE_CVPFS RecName: Full=Spike glycoprotein; Short=S glycoprotein; AltName: Full=E2; AltName: Full=Peplomer protein; Flags: Precursor', dbxrefs=[]),\n",
       " SeqRecord(seq=Seq('MKKLFVVLVVMPLIYGDKFPTSVVSNCTDQCASYVANVFTILPGGFIPSDFSFN...HVH'), id='gi|138182|sp|P24413.1|SPIKE_CVPRM', name='gi|138182|sp|P24413.1|SPIKE_CVPRM', description='gi|138182|sp|P24413.1|SPIKE_CVPRM RecName: Full=Spike glycoprotein; Short=S glycoprotein; AltName: Full=E2; AltName: Full=Peplomer protein; Flags: Precursor', dbxrefs=[]),\n",
       " SeqRecord(seq=Seq('MKKLFVVLVVMPLIYGDKFPTSVVSNCTDQCASYVANVFTTQPGGFIPSDFSFN...HVH'), id='gi|138181|sp|P27655.1|SPIKE_CVPR8', name='gi|138181|sp|P27655.1|SPIKE_CVPR8', description='gi|138181|sp|P27655.1|SPIKE_CVPR8 RecName: Full=Spike glycoprotein; Short=S glycoprotein; AltName: Full=E2; AltName: Full=Peplomer protein; Flags: Precursor', dbxrefs=[]),\n",
       " SeqRecord(seq=Seq('MFLCFCAATVLCFWINSGGADVVPNGTLIFSEPVPYPFSLDVLRSFSQHVVLRN...KKS'), id='gi|138349|sp|P23052.1|SPIKE_BEV', name='gi|138349|sp|P23052.1|SPIKE_BEV', description='gi|138349|sp|P23052.1|SPIKE_BEV RecName: Full=Spike glycoprotein; Short=S glycoprotein; AltName: Full=E2; AltName: Full=Peplomer protein; Flags: Precursor', dbxrefs=[]),\n",
       " SeqRecord(seq=Seq('MWLITILATISCVTAQLSQTNPDCPIPTCTILPPPKTTLDNTKFRVVYTKDQEA...RLR'), id='gi|123799733|sp|Q008X4.1|SPIKE_WBV24', name='gi|123799733|sp|Q008X4.1|SPIKE_WBV24', description='gi|123799733|sp|Q008X4.1|SPIKE_WBV24 RecName: Full=Spike glycoprotein; Short=S glycoprotein; Flags: Precursor', dbxrefs=[]),\n",
       " SeqRecord(seq=Seq('MFLCFCTAPILCLWINSGGAVVVSNESLVVCEPVSYPYSLQVLRSFSQRVNLRT...KKS'), id='gi|81984650|sp|O90304.1|SPIKE_BRV1', name='gi|81984650|sp|O90304.1|SPIKE_BRV1', description='gi|81984650|sp|O90304.1|SPIKE_BRV1 RecName: Full=Spike glycoprotein; Short=S glycoprotein; AltName: Full=E2; AltName: Full=Peplomer protein; Flags: Precursor', dbxrefs=[])]"
      ]
     },
     "execution_count": 96,
     "metadata": {},
     "output_type": "execute_result"
    }
   ],
   "source": [
    "r=[]\n",
    "records=[]\n",
    "seqs=[]\n",
    "with open(\"hw3.fasta\") as handle:\n",
    "    for record in SeqIO.parse(handle, \"fasta\"):\n",
    "        #print(record)\n",
    "        if record.id.split('|')[4].startswith(\"SPIKE_\")==True:          \n",
    "            records.append(record.id)\n",
    "            seqs.append(record.seq)\n",
    "            r.append(record)\n",
    "        #print(record.seq)\n",
    "r"
   ]
  },
  {
   "cell_type": "code",
   "execution_count": 88,
   "id": "e196cbc1",
   "metadata": {},
   "outputs": [
    {
     "data": {
      "text/plain": [
       "[Seq('>gi|1835922048|sp|P0DTC2.1|SPIKE_SARS2 MFVFLVLLPLVSSQC...HYT'),\n",
       " Seq('>gi|30173397|sp|P59594.1|SPIKE_SARS MFIFLLFLTLTSGSDLDR...HYT'),\n",
       " Seq('>gi|1352862|sp|P11224.2|SPIKE_CVMA5 MLFVFILFLPSCLGYIGD...HED'),\n",
       " Seq('>gi|138172|sp|P15777.1|SPIKE_CVBM MFLILLISLPMAFAVIGDLK...HDD'),\n",
       " Seq('>gi|138186|sp|P11223.1|SPIKE_IBVB MLVTPLLLVTLLCALCSAVL...KSV'),\n",
       " Seq('>gi|123867264|sp|Q0ZME7.1|SPIKE_CVHN5 MFLIIFILPTTLAVIG...HDD'),\n",
       " Seq('>gi|123862264|sp|Q14EB0.1|SPIKE_CVHN2 MFLIIFILPTTLAVIG...HDD'),\n",
       " Seq('>gi|82060151|sp|Q8JSP8.1|SPIKE_CVPIA MFFILLITLPSVFAVIG...HDD'),\n",
       " Seq('>gi|82011698|sp|Q8BB25.1|SPIKE_CVP67 MFFILLISLPSAFAVIG...HDD'),\n",
       " Seq('>gi|81926310|sp|Q5MQD0.1|SPIKE_CVHN1 MLLIIFILPTTLAVIGD...HDD'),\n",
       " Seq('>gi|549302|sp|P36334.1|SPIKE_CVHOC MFLILLISLPTAFAVIGDL...HDD'),\n",
       " Seq('>gi|465382|sp|Q02385.1|SPIKE_CVMJC MLFVFILFLPSCLGYIGDF...HED'),\n",
       " Seq('>gi|138178|sp|P11225.1|SPIKE_CVMJH MLFVFILLLPSCLGYIGDF...HED'),\n",
       " Seq('>gi|138176|sp|P22432.1|SPIKE_CVM4 MLFVFILLLPSCLGYIGDFR...HED'),\n",
       " Seq('>gi|138169|sp|P25190.1|SPIKE_CVBF MFLILLISLPMALAVIGDLK...HDD'),\n",
       " Seq('>gi|123861109|sp|Q0Q475.1|SPIKE_BC279 MKVLIFALLFSLAKAQ...HYT'),\n",
       " Seq('>gi|123847331|sp|Q3LZX1.1|SPIKE_BCHK3 MKILIFAFLANLAKAQ...HYT'),\n",
       " Seq('>gi|82013003|sp|Q9QAR5.1|SPIKE_CVBLS MFLILLISLPTAFAVIG...HDD'),\n",
       " Seq('>gi|82012998|sp|Q9QAQ8.1|SPIKE_CVBOK MFLILLISLPTAFAVIG...HDD'),\n",
       " Seq('>gi|81971726|sp|Q9IKD1.1|SPIKE_CVRSD MLFVFLTLLPSCLGYIG...HED'),\n",
       " Seq('>gi|81960875|sp|Q91A26.1|SPIKE_CVBEN MFLILLISLPTAFAVIG...HED'),\n",
       " Seq('>gi|81957133|sp|Q8V436.1|SPIKE_CVBLU MFLILLISLPTAFAVIG...HED'),\n",
       " Seq('>gi|1352861|sp|P25193.2|SPIKE_CVBQ MFLILLISLPMAFAVIGDL...HDD'),\n",
       " Seq('>gi|138174|sp|P25194.1|SPIKE_CVBV MFLILLISLPMAFAVIGDLK...HDD'),\n",
       " Seq('>gi|138171|sp|P25192.1|SPIKE_CVBLY MFLILLISLPMALAVIGDL...HDD'),\n",
       " Seq('>gi|138170|sp|P25191.1|SPIKE_CVBL9 MFLILLISLPMAFAVIGDL...HDD'),\n",
       " Seq('>gi|82582259|sp|Q3I5J5.1|SPIKE_BCRP3 MKILILAFLASLAKAQE...HYT'),\n",
       " Seq('>gi|148841194|sp|A3EXD0.1|SPIKE_BCHK5 MIRSVLVLMCSLTFIG...HVH'),\n",
       " Seq('>gi|148841193|sp|A3EX94.1|SPIKE_BCHK4 MTLLMCLLMSLLIFVR...HVH'),\n",
       " Seq('>gi|123866437|sp|Q0Q4F2.1|SPIKE_BC133 MTRLMCLLMSLSIFVR...HVH'),\n",
       " Seq('>gi|148841195|sp|A3EXG6.1|SPIKE_BCHK9 MLLILVLGVSLAAASR...RTV'),\n",
       " Seq('>gi|510785803|sp|K9N5Q8.1|SPIKE_MERS1 MIHSVFLLMFLLTPTE...HVH'),\n",
       " Seq('>gi|138187|sp|P12722.1|SPIKE_IBVD2 MLERSLLLATLLSALCSAN...VVT'),\n",
       " Seq('>gi|138185|sp|P05135.1|SPIKE_IBV6 MLERSLLLATLLSALCSANL...KSV'),\n",
       " Seq('>gi|71153773|sp|Q6Q1S2.1|SPIKE_CVHNL MKLFLILLVLPLASCFF...HVQ'),\n",
       " Seq('>gi|138190|sp|P12651.1|SPIKE_IBVM MLVTPLLLVTLLCVLCSAAL...KSV'),\n",
       " Seq('>gi|138175|sp|P15423.1|SPIKE_CVH22 MFVLLVAYALLHIAGCQTT...HIQ'),\n",
       " Seq('>gi|138189|sp|P12650.1|SPIKE_IBVK MLVTPLLLVTLLCALCSAAL...KSV'),\n",
       " Seq('>gi|81961050|sp|Q91AV1.1|SPIKE_PEDV7 MRSLIYFWLLLPVLPTL...HVQ'),\n",
       " Seq('>gi|81175016|sp|Q65984.1|SPIKE_CVCAK MIVLILCLLLFSYNSVI...HVH'),\n",
       " Seq('>gi|31340517|sp|P07946.2|SPIKE_CVPPU MKKLFVVLVVMPLIYGD...HVH'),\n",
       " Seq('>gi|138184|sp|P10033.1|SPIKE_FIPV MIVLVTCLLLLCSYHTVLST...HVH'),\n",
       " Seq('>gi|123866429|sp|Q0Q466.1|SPIKE_BC512 MKYTLLFCVVFATVSF...HVQ'),\n",
       " Seq('>gi|75558720|sp|Q7T6T3.1|SPIKE_CVCBG MIVLTLCLFLVLYNSVI...HVH'),\n",
       " Seq('>gi|1352863|sp|P33470.2|SPIKE_CVPMI MKKLFVVLVVMPLIYGDN...HVH'),\n",
       " Seq('>gi|549301|sp|P36300.1|SPIKE_CVCAI MIVLTLCLFLFLYSSVSCT...HVH'),\n",
       " Seq('>gi|465385|sp|Q01977.1|SPIKE_CVPRT MKKLFVVLVVMPLIYGDNF...HVH'),\n",
       " Seq('>gi|267339|sp|P18450.2|SPIKE_CVPFS MKKLFVVLVVMPLIYGDNF...HIH'),\n",
       " Seq('>gi|138182|sp|P24413.1|SPIKE_CVPRM MKKLFVVLVVMPLIYGDKF...HVH'),\n",
       " Seq('>gi|138181|sp|P27655.1|SPIKE_CVPR8 MKKLFVVLVVMPLIYGDKF...HVH'),\n",
       " Seq('>gi|138349|sp|P23052.1|SPIKE_BEV MFLCFCAATVLCFWINSGGAD...KKS'),\n",
       " Seq('>gi|123799733|sp|Q008X4.1|SPIKE_WBV24 MWLITILATISCVTAQ...RLR'),\n",
       " Seq('>gi|81984650|sp|O90304.1|SPIKE_BRV1 MFLCFCTAPILCLWINSG...KKS')]"
      ]
     },
     "execution_count": 88,
     "metadata": {},
     "output_type": "execute_result"
    }
   ],
   "source": [
    "res_lt = ['>'+ records[x]+' ' + seqs[x] for x in range (len (records))]  \n",
    "res_lt"
   ]
  },
  {
   "cell_type": "code",
   "execution_count": 89,
   "id": "8945a7d6",
   "metadata": {},
   "outputs": [],
   "source": [
    "file=open('f1.fasta','w')\n",
    "for items in res_lt:\n",
    "    file.writelines(items+'\\n')\n",
    "file.close()"
   ]
  },
  {
   "cell_type": "code",
   "execution_count": null,
   "id": "72cd2eab",
   "metadata": {},
   "outputs": [],
   "source": []
  }
 ],
 "metadata": {
  "kernelspec": {
   "display_name": "Python 3 (ipykernel)",
   "language": "python",
   "name": "python3"
  },
  "language_info": {
   "codemirror_mode": {
    "name": "ipython",
    "version": 3
   },
   "file_extension": ".py",
   "mimetype": "text/x-python",
   "name": "python",
   "nbconvert_exporter": "python",
   "pygments_lexer": "ipython3",
   "version": "3.9.7"
  }
 },
 "nbformat": 4,
 "nbformat_minor": 5
}
